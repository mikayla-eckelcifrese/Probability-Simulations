{
 "cells": [
  {
   "cell_type": "code",
   "execution_count": null,
   "metadata": {
    "collapsed": true,
    "pycharm": {
     "name": "#%%\n"
    }
   },
   "outputs": [],
   "source": [
    "import numpy as np\n",
    "import numpy.random as npr\n",
    "\n",
    "import matplotlib.pyplot as plt\n",
    "\n",
    "import plotly.express as px"
   ]
  },
  {
   "cell_type": "code",
   "execution_count": null,
   "outputs": [],
   "source": [
    "numPeople: int = 100\n",
    "\n",
    "population = (np.arange(0, numPeople)) ^ 2\n",
    "\n",
    "gainLose = np.asarray(int(0.5 * numPeople) * [1] + int(0.5 * numPeople) * [-1])\n",
    "\n",
    "dataToPlot = population.copy()\n",
    "\n",
    "npr.shuffle(gainLose)  # each person randomly gains or loses one dollar on each iteration of the loop\n",
    "population += gainLose\n",
    "dataToPlot = np.stack(arrays=[dataToPlot, population], axis=0)\n",
    "\n",
    "n = 10000\n",
    "\n",
    "for i in range(n):\n",
    "    npr.shuffle(gainLose)  # each person randomly gains or loses one dollar on each iteration of the loop\n",
    "    population += gainLose\n",
    "    dataToPlot = np.row_stack((dataToPlot, population))\n"
   ],
   "metadata": {
    "collapsed": false,
    "pycharm": {
     "name": "#%%\n"
    }
   }
  },
  {
   "cell_type": "code",
   "execution_count": null,
   "outputs": [],
   "source": [
    "time = np.arange(1, n + 3)\n",
    "\n",
    "for i in range(100):\n",
    "    plt.plot(time, dataToPlot[:, i])\n",
    "\n",
    "plt.show()\n",
    "\n",
    "plt.hist(dataToPlot)\n",
    "\n",
    "plt.show()\n",
    "\n",
    "px.histogram(dataToPlot).show()\n"
   ],
   "metadata": {
    "collapsed": false,
    "pycharm": {
     "name": "#%%\n"
    }
   }
  }
 ],
 "metadata": {
  "kernelspec": {
   "display_name": "Python 3",
   "language": "python",
   "name": "python3"
  },
  "language_info": {
   "codemirror_mode": {
    "name": "ipython",
    "version": 2
   },
   "file_extension": ".py",
   "mimetype": "text/x-python",
   "name": "python",
   "nbconvert_exporter": "python",
   "pygments_lexer": "ipython2",
   "version": "2.7.6"
  }
 },
 "nbformat": 4,
 "nbformat_minor": 0
}